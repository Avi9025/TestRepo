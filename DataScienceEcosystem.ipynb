{
 "cells": [
  {
   "cell_type": "markdown",
   "id": "95f7d3a1-f82a-466c-91f5-bc54f0917505",
   "metadata": {},
   "source": [
    "# Data Science Tools and Ecosystem"
   ]
  },
  {
   "cell_type": "markdown",
   "id": "cad4b66c-bb66-4ffa-b64f-38d233587666",
   "metadata": {},
   "source": [
    "In this notebook, Data Science Tools and Ecosystem are summarized."
   ]
  },
  {
   "cell_type": "markdown",
   "id": "1cfe48ac-fba7-49a6-8353-2ad9e42efccc",
   "metadata": {},
   "source": [
    "Some of the popular languages that Data Scientists use are:\n",
    "1. Python\n",
    "2. R\n",
    "3. SQL"
   ]
  },
  {
   "cell_type": "markdown",
   "id": "b75da821-c4dc-4d35-9a54-defcf05c0012",
   "metadata": {},
   "source": [
    "Some of the commonly used libraries used by Data Scientists include:\n",
    "1. NumPy\n",
    "2. Pandas\n",
    "3. Matplotlib"
   ]
  },
  {
   "cell_type": "markdown",
   "id": "c1360cda-8bb1-49ce-8c5f-469727791e4b",
   "metadata": {},
   "source": [
    "Data Science Tools\n",
    "1. JupyterLab\n",
    "2. Rstudio\n",
    "3. Github"
   ]
  },
  {
   "cell_type": "markdown",
   "id": "53e97ec1-9a45-4c45-b397-2c732f6a310d",
   "metadata": {},
   "source": [
    "### Below are a few examples of evaluating arithmetic expressions in Python"
   ]
  },
  {
   "cell_type": "markdown",
   "id": "b75d8665-4693-4be3-a76c-c6f556bdbbaf",
   "metadata": {},
   "source": [
    "This a simple arithmetic expression to mutiply then add integers"
   ]
  },
  {
   "cell_type": "code",
   "execution_count": 10,
   "id": "5f092a1f-ed03-455f-96c6-077212ebc7c8",
   "metadata": {},
   "outputs": [
    {
     "name": "stdout",
     "output_type": "stream",
     "text": [
      "The output is : 17\n"
     ]
    }
   ],
   "source": [
    "num1 = 3\n",
    "num2 = 4\n",
    "num3 = 5\n",
    "product = (num1*num2)+num3\n",
    "print(f\"The output is : {product}\")"
   ]
  },
  {
   "cell_type": "markdown",
   "id": "a81464b3-a0db-4336-9b41-6b95daadffaa",
   "metadata": {},
   "source": [
    " This will convert 200 minutes to hours by diving by 60"
   ]
  },
  {
   "cell_type": "code",
   "execution_count": 11,
   "id": "6f015328-58cd-4d86-b7b3-ab50029fc2cd",
   "metadata": {},
   "outputs": [
    {
     "name": "stdout",
     "output_type": "stream",
     "text": [
      "The output is : 3.3333333333333335\n"
     ]
    }
   ],
   "source": [
    "num1 = 200\n",
    "product = num1/60\n",
    "print(f\"The output is : {product}\")"
   ]
  },
  {
   "cell_type": "markdown",
   "id": "9dde64aa-c24d-4960-a7e4-0bb93c0fb96b",
   "metadata": {},
   "source": [
    "**Objectives:**\n",
    "List popular languages for Data Science\n",
    "- Python\n",
    "- R\n",
    "- SQL\n",
    "Some of the commonly used libraries used by Data Scientists include:\n",
    "- NumPy\n",
    "- Pandas\n",
    "- Matplotlib\n",
    "Data Science Tools\n",
    "- JupyterLab\n",
    "- Rstudio\n",
    "- Github"
   ]
  },
  {
   "cell_type": "markdown",
   "id": "29bf4c88-c65d-4e06-a911-f389186fe2f0",
   "metadata": {},
   "source": [
    "## Author\n",
    "AVINASH MENKUDLE"
   ]
  }
 ],
 "metadata": {
  "kernelspec": {
   "display_name": "Python 3 (ipykernel)",
   "language": "python",
   "name": "python3"
  },
  "language_info": {
   "codemirror_mode": {
    "name": "ipython",
    "version": 3
   },
   "file_extension": ".py",
   "mimetype": "text/x-python",
   "name": "python",
   "nbconvert_exporter": "python",
   "pygments_lexer": "ipython3",
   "version": "3.12.8"
  }
 },
 "nbformat": 4,
 "nbformat_minor": 5
}
